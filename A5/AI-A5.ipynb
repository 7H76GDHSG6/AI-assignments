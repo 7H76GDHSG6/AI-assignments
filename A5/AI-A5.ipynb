{
 "cells": [
  {
   "cell_type": "code",
   "execution_count": 253,
   "id": "3669dc3c",
   "metadata": {},
   "outputs": [],
   "source": [
    "import nltk\n",
    "import numpy as np\n",
    "import pandas as pd\n",
    "import seaborn as sns\n",
    "import matplotlib.pyplot as plt\n",
    "from nltk.tokenize import word_tokenize\n",
    "from nltk.stem import PorterStemmer"
   ]
  },
  {
   "cell_type": "markdown",
   "id": "9453f5ca",
   "metadata": {},
   "source": [
    "## Defining fields and taking input"
   ]
  },
  {
   "cell_type": "code",
   "execution_count": 254,
   "id": "c524be84",
   "metadata": {},
   "outputs": [],
   "source": [
    "fields = ['common', 'compsci', 'programming', 'ece', 'math', 'ai', 'design', 'ssh',\n",
    "          'biology', 'sociology', 'psychology', 'economics', 'misc']"
   ]
  },
  {
   "cell_type": "code",
   "execution_count": 255,
   "id": "34e1395d",
   "metadata": {},
   "outputs": [
    {
     "name": "stdout",
     "output_type": "stream",
     "text": [
      "['common', 'compsci', 'program', 'ece', 'math', 'ai', 'design', 'ssh', 'biolog', 'sociolog', 'psycholog', 'econom', 'misc']\n"
     ]
    }
   ],
   "source": [
    "fstems = []\n",
    "ps = PorterStemmer()\n",
    "for field in fields:\n",
    "    stem = ps.stem(field)\n",
    "    fstems.append(stem)\n",
    "print(fstems)"
   ]
  },
  {
   "cell_type": "code",
   "execution_count": 256,
   "id": "0b9a7b2a",
   "metadata": {},
   "outputs": [],
   "source": [
    "ifile = open('input_text.txt', 'r')\n",
    "text = ifile.read()\n",
    "ifile.close()"
   ]
  },
  {
   "cell_type": "code",
   "execution_count": 257,
   "id": "bf7be16b",
   "metadata": {},
   "outputs": [
    {
     "name": "stdout",
     "output_type": "stream",
     "text": [
      "['my', 'stream', 'is', 'csam', '.', 'i', 'am', 'interested', 'in', 'designing', 'and', 'psychology', '.', 'i', 'also', 'have', 'to', 'complete', 'some', 'of', 'the', 'common', 'courses', '.']\n"
     ]
    }
   ],
   "source": [
    "tokens = word_tokenize(text)\n",
    "print(tokens)"
   ]
  },
  {
   "cell_type": "markdown",
   "id": "9b66a368",
   "metadata": {},
   "source": [
    "## Tags"
   ]
  },
  {
   "cell_type": "markdown",
   "id": "e7c32211",
   "metadata": {},
   "source": [
    "### Direct tags"
   ]
  },
  {
   "cell_type": "code",
   "execution_count": 258,
   "id": "75875e54",
   "metadata": {},
   "outputs": [],
   "source": [
    "tags = []"
   ]
  },
  {
   "cell_type": "code",
   "execution_count": 259,
   "id": "b123957d",
   "metadata": {},
   "outputs": [],
   "source": [
    "for token in tokens:\n",
    "    if token in fields:\n",
    "        tags.append(token)"
   ]
  },
  {
   "cell_type": "code",
   "execution_count": 260,
   "id": "3fcc4055",
   "metadata": {},
   "outputs": [
    {
     "data": {
      "text/plain": [
       "['psychology', 'common']"
      ]
     },
     "execution_count": 260,
     "metadata": {},
     "output_type": "execute_result"
    }
   ],
   "source": [
    "tags"
   ]
  },
  {
   "cell_type": "markdown",
   "id": "6fbcd55d",
   "metadata": {},
   "source": [
    "### Stem tags"
   ]
  },
  {
   "cell_type": "code",
   "execution_count": 261,
   "id": "c1cb34ab",
   "metadata": {},
   "outputs": [
    {
     "name": "stdout",
     "output_type": "stream",
     "text": [
      "['my', 'stream', 'is', 'csam', '.', 'i', 'am', 'interest', 'in', 'design', 'and', 'psycholog', '.', 'i', 'also', 'have', 'to', 'complet', 'some', 'of', 'the', 'common', 'cours', '.']\n"
     ]
    }
   ],
   "source": [
    "tstems = []\n",
    "ps = PorterStemmer()\n",
    "for token in tokens:\n",
    "    stem = ps.stem(token)\n",
    "    tstems.append(stem)\n",
    "print(tstems)"
   ]
  },
  {
   "cell_type": "code",
   "execution_count": 262,
   "id": "a8bfe95a",
   "metadata": {},
   "outputs": [],
   "source": [
    "for stem in tstems:\n",
    "    for i in range(len(fields)):\n",
    "        if(stem == fstems[i]):\n",
    "            tags.append(fields[i])"
   ]
  },
  {
   "cell_type": "code",
   "execution_count": 263,
   "id": "fb280ebe",
   "metadata": {},
   "outputs": [
    {
     "data": {
      "text/plain": [
       "['psychology', 'common', 'design', 'psychology', 'common']"
      ]
     },
     "execution_count": 263,
     "metadata": {},
     "output_type": "execute_result"
    }
   ],
   "source": [
    "tags"
   ]
  },
  {
   "cell_type": "markdown",
   "id": "c62cdddd",
   "metadata": {},
   "source": [
    "### Special cases"
   ]
  },
  {
   "cell_type": "code",
   "execution_count": 264,
   "id": "4a741631",
   "metadata": {},
   "outputs": [
    {
     "name": "stdout",
     "output_type": "stream",
     "text": [
      "['artificial intellig', 'computer sci', 'electron', 'social sci', 'miscellan']\n"
     ]
    }
   ],
   "source": [
    "test_fields = ['ai', 'compsci', 'ece', 'ssh', 'misc']\n",
    "test = ['artificial intelligence', 'computer science', 'electronic', 'social sciences', 'miscellaneous']\n",
    "test_stems = [ps.stem(word) for word in test]\n",
    "print(test_stems)"
   ]
  },
  {
   "cell_type": "code",
   "execution_count": 265,
   "id": "6f2b2d6e",
   "metadata": {},
   "outputs": [],
   "source": [
    "for i in range(len(test)):\n",
    "    if(test_stems[i] in text):\n",
    "        tags.append(test_fields[i])"
   ]
  },
  {
   "cell_type": "code",
   "execution_count": 266,
   "id": "0aa8a808",
   "metadata": {},
   "outputs": [
    {
     "data": {
      "text/plain": [
       "['psychology', 'common', 'design', 'psychology', 'common']"
      ]
     },
     "execution_count": 266,
     "metadata": {},
     "output_type": "execute_result"
    }
   ],
   "source": [
    "tags"
   ]
  },
  {
   "cell_type": "code",
   "execution_count": null,
   "id": "36d8da1c",
   "metadata": {},
   "outputs": [],
   "source": []
  },
  {
   "cell_type": "markdown",
   "id": "4b9606c7",
   "metadata": {},
   "source": [
    "## Stream"
   ]
  },
  {
   "cell_type": "code",
   "execution_count": 267,
   "id": "1d63a4fa",
   "metadata": {},
   "outputs": [],
   "source": [
    "if('stream' in tstems):\n",
    "    if 'cse' in tstems:\n",
    "        tags.append('compsci')\n",
    "    elif 'csb' in tstems:\n",
    "        tags.append('biology')\n",
    "    elif 'csd' in tstems:\n",
    "        tags.append('design')\n",
    "    elif 'ece' in tstems:\n",
    "        tags.append('ece')\n",
    "    elif 'csss' in tstems:\n",
    "        tags.append('ssh')\n",
    "    elif 'csam' in tstems:\n",
    "        tags.append('math')\n",
    "    elif 'csai' in tstems:\n",
    "        tags.append('ai')"
   ]
  },
  {
   "cell_type": "code",
   "execution_count": 268,
   "id": "a372ffd2",
   "metadata": {},
   "outputs": [
    {
     "data": {
      "text/plain": [
       "['psychology', 'common', 'design', 'psychology', 'common', 'math']"
      ]
     },
     "execution_count": 268,
     "metadata": {},
     "output_type": "execute_result"
    }
   ],
   "source": [
    "tags"
   ]
  },
  {
   "cell_type": "markdown",
   "id": "b0935a6d",
   "metadata": {},
   "source": [
    "### Removing duplicate tags"
   ]
  },
  {
   "cell_type": "code",
   "execution_count": 269,
   "id": "142d1b61",
   "metadata": {},
   "outputs": [
    {
     "name": "stdout",
     "output_type": "stream",
     "text": [
      "['psychology', 'design', 'math', 'common']\n"
     ]
    }
   ],
   "source": [
    "tags = list(set(tags))\n",
    "print(tags)"
   ]
  },
  {
   "cell_type": "markdown",
   "id": "4dc6432b",
   "metadata": {},
   "source": [
    "## Writing the tags to file"
   ]
  },
  {
   "cell_type": "code",
   "execution_count": 270,
   "id": "0754f072",
   "metadata": {},
   "outputs": [],
   "source": [
    "tagstring = 'taglist(['\n",
    "for i in range(len(tags)-1):\n",
    "    tagstring += tags[i] + ', '\n",
    "tagstring += tags[-1] + ']).'"
   ]
  },
  {
   "cell_type": "code",
   "execution_count": 271,
   "id": "932289ab",
   "metadata": {},
   "outputs": [
    {
     "name": "stdout",
     "output_type": "stream",
     "text": [
      "taglist([psychology, design, math, common]).\n"
     ]
    }
   ],
   "source": [
    "print(tagstring)"
   ]
  },
  {
   "cell_type": "code",
   "execution_count": 272,
   "id": "fd5a8953",
   "metadata": {},
   "outputs": [],
   "source": [
    "f = open('facts.pl', 'w')\n",
    "f.write(tagstring)\n",
    "f.close()"
   ]
  },
  {
   "cell_type": "code",
   "execution_count": null,
   "id": "2892f6b8",
   "metadata": {},
   "outputs": [],
   "source": []
  },
  {
   "cell_type": "code",
   "execution_count": null,
   "id": "0c9c8a96",
   "metadata": {},
   "outputs": [],
   "source": []
  }
 ],
 "metadata": {
  "kernelspec": {
   "display_name": "Python 3 (ipykernel)",
   "language": "python",
   "name": "python3"
  },
  "language_info": {
   "codemirror_mode": {
    "name": "ipython",
    "version": 3
   },
   "file_extension": ".py",
   "mimetype": "text/x-python",
   "name": "python",
   "nbconvert_exporter": "python",
   "pygments_lexer": "ipython3",
   "version": "3.9.6"
  }
 },
 "nbformat": 4,
 "nbformat_minor": 5
}
