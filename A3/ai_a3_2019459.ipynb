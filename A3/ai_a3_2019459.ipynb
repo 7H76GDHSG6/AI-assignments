{
  "nbformat": 4,
  "nbformat_minor": 0,
  "metadata": {
    "colab": {
      "name": "ai-a3-2019459.ipynb",
      "provenance": [],
      "collapsed_sections": []
    },
    "kernelspec": {
      "name": "python3",
      "display_name": "Python 3"
    },
    "language_info": {
      "name": "python"
    }
  },
  "cells": [
    {
      "cell_type": "code",
      "metadata": {
        "colab": {
          "base_uri": "https://localhost:8080/"
        },
        "id": "HE8JVn2APOyd",
        "outputId": "fb35921e-922f-4ba8-ee27-18b92472bb2d"
      },
      "source": [
        "pip install durable-rules"
      ],
      "execution_count": 1,
      "outputs": [
        {
          "output_type": "stream",
          "name": "stdout",
          "text": [
            "Collecting durable-rules\n",
            "  Downloading durable_rules-2.0.28.tar.gz (57 kB)\n",
            "\u001b[?25l\r\u001b[K     |█████▊                          | 10 kB 18.1 MB/s eta 0:00:01\r\u001b[K     |███████████▍                    | 20 kB 18.7 MB/s eta 0:00:01\r\u001b[K     |█████████████████               | 30 kB 15.7 MB/s eta 0:00:01\r\u001b[K     |██████████████████████▊         | 40 kB 10.6 MB/s eta 0:00:01\r\u001b[K     |████████████████████████████▌   | 51 kB 5.5 MB/s eta 0:00:01\r\u001b[K     |████████████████████████████████| 57 kB 2.9 MB/s \n",
            "\u001b[?25hBuilding wheels for collected packages: durable-rules\n",
            "  Building wheel for durable-rules (setup.py) ... \u001b[?25l\u001b[?25hdone\n",
            "  Created wheel for durable-rules: filename=durable_rules-2.0.28-cp37-cp37m-linux_x86_64.whl size=176386 sha256=95d03650b7ea031d131b6946e3b3e7d8e558f962d9d43aeec279a1a67211378f\n",
            "  Stored in directory: /root/.cache/pip/wheels/95/83/aa/1f9f65309b49e04f691d488c63c0aafaee273e370d8a0c2b36\n",
            "Successfully built durable-rules\n",
            "Installing collected packages: durable-rules\n",
            "Successfully installed durable-rules-2.0.28\n"
          ]
        }
      ]
    },
    {
      "cell_type": "code",
      "metadata": {
        "id": "g9KXOWIsO90c"
      },
      "source": [
        "from durable.lang import *"
      ],
      "execution_count": 1,
      "outputs": []
    },
    {
      "cell_type": "code",
      "metadata": {
        "id": "xjudPmUM4QVv"
      },
      "source": [
        "with ruleset('system'):\n",
        "  @when_all((m.field == 'AI'), (m.interest == 'math'))\n",
        "  def prospect(c):\n",
        "    c.assert_fact({'prospect': 'ML'})\n",
        "  \n",
        "  @when_all((m.field == 'AI'), (m.type == 'theory'))\n",
        "  def course(c):\n",
        "    c.assert_fact({'course': 'AI'})\n",
        "    c.assert_fact('output', {'subject': 'take', 'predicate': 'course', 'object': 'Artificial Intelligence'})\n",
        "  \n",
        "  @when_all((m.prospect == 'ML'), (m.interest == 'language'))\n",
        "  def course(c):\n",
        "    c.assert_fact({'course': 'NLP'})\n",
        "    c.assert_fact('output', {'subject': 'take', 'predicate': 'course', 'object': 'Natural language processing'})\n",
        "  \n",
        "  @when_all((m.field == 'AI'), (m.interest == 'visuals'))\n",
        "  def course(c):\n",
        "    c.assert_fact({'course': 'CV'})\n",
        "    c.assert_fact('output', {'subject': 'take', 'predicate': 'course', 'object': 'Computer vision'})\n",
        "  \n",
        "  @when_all((m.field == 'CS'), (m.type == 'theory'))\n",
        "  def prospect(c):\n",
        "    c.assert_fact({'prospect': 'coreCS'})\n",
        "  \n",
        "  @when_all((m.prospect == 'coreCS'))\n",
        "  def course(c):\n",
        "    c.assert_fact({'course': 'ADA'})\n",
        "    c.assert_fact('output', {'subject': 'take', 'predicate': 'course', 'object': 'Analysis and design of algorithms'})\n",
        "  \n",
        "  @when_all((m.prospect == 'coreCS'))\n",
        "  def course(c):\n",
        "    c.assert_fact({'course': 'DBMS'})\n",
        "    c.assert_fact('output', {'subject': 'take', 'predicate': 'course', 'object': 'Database management system'})\n",
        "  \n",
        "  @when_all((m.prospect == 'coreCS'), (m.interest == 'network'))\n",
        "  def course(c):\n",
        "    c.assert_fact({'course': 'CN'})\n",
        "    c.assert_fact('output', {'subject': 'take', 'predicate': 'course', 'object': 'Computer networks'})\n",
        "  \n",
        "  @when_all((m.field == 'CS'), (m.interest == 'problem-solving'))\n",
        "  def course(c):\n",
        "    c.assert_fact({'course': 'DSA'})\n",
        "    c.assert_fact('output', {'subject': 'take', 'predicate': 'course', 'object': 'Data structures and algorithms'})\n",
        "  \n",
        "  @when_all((m.prospect == 'coreCS'), (m.interest == 'problem-solving'), (m.interest == 'math'))\n",
        "  def activity(c):\n",
        "    c.assert_fact({'activity': 'CP'})\n",
        "    c.assert_fact('output', {'subject': 'try', 'predicate': 'activity', 'object': 'Competitive programming'})\n",
        "  \n",
        "  @when_all((m.field == 'ECA'), (m.interest == 'language'))\n",
        "  def activity(c):\n",
        "    c.assert_fact({'activity': 'debate'})\n",
        "    c.assert_fact({'activity': 'writing'})\n",
        "    c.assert_fact('output', {'subject': 'try', 'predicate': 'activity', 'object': 'Debating'})\n",
        "    c.assert_fact('output', {'subject': 'try', 'predicate': 'activity', 'object': 'Writing'})\n",
        "  \n",
        "  @when_all((m.field == 'ECE'), (m.interest == 'hardware'))\n",
        "  def activity(c):\n",
        "    c.assert_fact({'activity': 'robotics'})\n",
        "    c.assert_fact('output', {'subject': 'try', 'predicate': 'activity', 'object': 'Robotics'})\n",
        "  \n",
        "  @when_all((m.field == 'ECE'), (m.interest == 'visuals'))\n",
        "  def course(c):\n",
        "    c.assert_fact({'course': 'DIP'})\n",
        "    c.assert_fact('output', {'subject': 'take', 'predicate': 'course', 'object': 'Digital Image Processing'})\n",
        "  \n",
        "  @when_all((m.field == 'design'), (m.interest == 'visuals'))\n",
        "  def prospect(c):\n",
        "    c.assert_fact({'prospect': 'designer'})\n",
        "  \n",
        "  @when_all((m.prospect == 'designer'), (m.interest == 'art'))\n",
        "  def activity(c):\n",
        "    c.assert_fact({'activity': 'graphics'})\n",
        "    c.assert_fact('output', {'subject': 'try', 'predicate': 'activity', 'object': 'Graphic design'})\n",
        "  \n",
        "  @when_all((m.prospect == 'designer'), (m.interest == 'video'))\n",
        "  def activity(c):\n",
        "    c.assert_fact({'activity': 'videos'})\n",
        "    c.assert_fact('output', {'subject': 'try', 'predicate': 'activity', 'object': 'Video editing'})\n",
        "  \n",
        "  @when_all((m.field == 'design'), (m.interest == 'webdev'))\n",
        "  def activity(c):\n",
        "    c.assert_fact({'activity': 'frontend'})\n",
        "    c.assert_fact('output', {'subject': 'try', 'predicate': 'activity', 'object': 'Front-end developer'})\n",
        "  \n",
        "  @when_all((m.course == 'DBMS'), (m.interest == 'webdev'))\n",
        "  def activity(c):\n",
        "    c.assert_fact({'activity': 'backend'})\n",
        "    c.assert_fact('output', {'subject': 'try', 'predicate': 'activity', 'object': 'Back-end developer'})\n",
        "  \n",
        "  @when_all((m.activity == 'frontend'), (m.activity == 'backend'))\n",
        "  def activity(c):\n",
        "    c.assert_fact({'activity': 'fullstack'})\n",
        "    c.assert_fact('output', {'subject': 'try', 'predicate': 'activity', 'object': 'Full-stack developer'})\n",
        "  \n",
        "  @when_all((m.field == 'ECA'), (m.type == 'performative'))\n",
        "  def activity(c):\n",
        "    c.assert_fact({'activity': 'dance'})\n",
        "    c.assert_fact({'activity': 'drama'})\n",
        "    c.assert_fact('output', {'subject': 'try', 'predicate': 'activity', 'object': 'Dancing'})\n",
        "    c.assert_fact('output', {'subject': 'try', 'predicate': 'activity', 'object': 'Theatre'})\n",
        "  \n",
        "  @when_all((m.field == 'ECA'), (m.type == 'competitive'))\n",
        "  def prospect(c):\n",
        "    c.assert_fact({'prospect': 'sports'})\n",
        "  \n",
        "  @when_all((m.prospect == 'sports'), (m.type == 'physical'))\n",
        "  def activity(c):\n",
        "    c.assert_fact({'activity': 'football'})\n",
        "    c.assert_fact({'activity': 'basketball'})\n",
        "    c.assert_fact('output', {'subject': 'try', 'predicate': 'activity', 'object': 'Football'})\n",
        "    c.assert_fact('output', {'subject': 'try', 'predicate': 'activity', 'object': 'Basketball'})\n",
        "  \n",
        "  @when_all((m.prospect == 'sports'), (m.type == 'non-physical'))\n",
        "  def activity(c):\n",
        "    c.assert_fact({'activity': 'chess'})\n",
        "    c.assert_fact('output', {'subject': 'try', 'predicate': 'activity', 'object': 'Chess'})\n",
        "  \n",
        "  @when_all(+m.course)\n",
        "  def output(c):\n",
        "    pass\n",
        "  \n",
        "  @when_all(+m.activity)\n",
        "  def output(c):\n",
        "    pass\n",
        "  \n",
        "  @when_all(+m.interest)\n",
        "  def output(c):\n",
        "    pass\n",
        "  \n",
        "  @when_all(+m.type)\n",
        "  def output(c):\n",
        "    pass\n",
        "  \n",
        "  @when_all(+m.prospect)\n",
        "  def output(c):\n",
        "    pass"
      ],
      "execution_count": 2,
      "outputs": []
    },
    {
      "cell_type": "code",
      "metadata": {
        "id": "WeaGeiWMWwmd"
      },
      "source": [
        "with ruleset('output'):\n",
        "  @when_all(+m.subject)\n",
        "  def output(c):\n",
        "    print('Fact: {0} {1} {2}'.format(c.m.subject, c.m.predicate, c.m.object))"
      ],
      "execution_count": 3,
      "outputs": []
    },
    {
      "cell_type": "code",
      "metadata": {
        "id": "HaLRkKgkFSvj"
      },
      "source": [
        "fl = ['CS', 'ECE', 'AI', 'design', 'ECA']\n",
        "il = ['math', 'language', 'visuals', 'network', 'problem-solving', 'hardware', 'art', 'video', 'webdev']\n",
        "tl1 = ['theory', 'performative', 'competitive']\n",
        "tl2 = ['physical', 'non-physical']"
      ],
      "execution_count": 4,
      "outputs": []
    },
    {
      "cell_type": "code",
      "metadata": {
        "id": "afNR8y7VEq6P"
      },
      "source": [
        "def fieldinput():\n",
        "  fields = []\n",
        "  print('\\nChoose the fields you would like to explore\\nEnter corresponding numbers line by line\\nEnter end to stop input\\n)')\n",
        "  for i in range(len(fl)):\n",
        "    print(i+1, fl[i])\n",
        "  while(True):\n",
        "    temp = input()\n",
        "    if(temp=='end'):\n",
        "      break\n",
        "    else:\n",
        "      fields.append(fl[int(temp) - 1])\n",
        "  return fields\n",
        "\n",
        "def interestinput():\n",
        "  interests = []\n",
        "  print('\\nChoose the topics you are interested in\\nEnter corresponding numbers line by line\\nEnter end to stop input\\n)')\n",
        "  for i in range(len(il)):\n",
        "    print(i+1, il[i])\n",
        "  while(True):\n",
        "    temp = input()\n",
        "    if(temp=='end'):\n",
        "      break\n",
        "    else:\n",
        "      interests.append(il[int(temp) - 1])\n",
        "  return interests\n",
        "\n",
        "def typeinput():\n",
        "  types = []\n",
        "  print('\\nChoose your preferred type of course and activitiy\\nEnter corresponding numbers line by line\\nEnter end to stop input)')\n",
        "  for i in range(len(tl1)):\n",
        "    print(i+1, tl1[i])\n",
        "  while(True):\n",
        "    temp = input()\n",
        "    if(temp=='end'):\n",
        "      break\n",
        "    else:\n",
        "      types.append(tl1[int(temp) - 1])\n",
        "  \n",
        "  if('competitive' in types):\n",
        "    print('\\nChoose your preferred type of sport\\nEnter corresponding numbers line by line\\nEnter end to stop input)')\n",
        "    for i in range(len(tl2)):\n",
        "      print(i+1, tl2[i])\n",
        "    while(True):\n",
        "      temp = input()\n",
        "      if(temp=='end'):\n",
        "        break\n",
        "      else:\n",
        "        types.append(tl2[int(temp) - 1])\n",
        "  return types\n",
        "\n",
        "def takeinput():\n",
        "  fields = fieldinput()\n",
        "  interests = interestinput()\n",
        "  types = typeinput()\n",
        "  return fields, interests, types"
      ],
      "execution_count": 5,
      "outputs": []
    },
    {
      "cell_type": "code",
      "metadata": {
        "colab": {
          "base_uri": "https://localhost:8080/"
        },
        "id": "ehtFnOlIE49K",
        "outputId": "28017683-939d-4f71-a5ce-502b00d1a9b6"
      },
      "source": [
        "f, i, t = takeinput()\n",
        "print()\n",
        "for x in f:\n",
        "  assert_fact('system', {'field': x})\n",
        "for x in i:\n",
        "  assert_fact('system', {'interest': x})\n",
        "for x in t:\n",
        "  assert_fact('system', {'type': x})"
      ],
      "execution_count": 6,
      "outputs": [
        {
          "output_type": "stream",
          "name": "stdout",
          "text": [
            "\n",
            "Choose the fields you would like to explore\n",
            "Enter corresponding numbers line by line\n",
            "Enter end to stop input\n",
            ")\n",
            "1 CS\n",
            "2 ECE\n",
            "3 AI\n",
            "4 design\n",
            "5 ECA\n",
            "1\n",
            "3\n",
            "5\n",
            "end\n",
            "\n",
            "Choose the topics you are interested in\n",
            "Enter corresponding numbers line by line\n",
            "Enter end to stop input\n",
            ")\n",
            "1 math\n",
            "2 language\n",
            "3 visuals\n",
            "4 network\n",
            "5 problem-solving\n",
            "6 hardware\n",
            "7 art\n",
            "8 video\n",
            "9 webdev\n",
            "1\n",
            "3\n",
            "5\n",
            "9\n",
            "end\n",
            "\n",
            "Choose your preferred type of course and activitiy\n",
            "Enter corresponding numbers line by line\n",
            "Enter end to stop input)\n",
            "1 theory\n",
            "2 performative\n",
            "3 competitive\n",
            "1\n",
            "3\n",
            "end\n",
            "\n",
            "Choose your preferred type of sport\n",
            "Enter corresponding numbers line by line\n",
            "Enter end to stop input)\n",
            "1 physical\n",
            "2 non-physical\n",
            "1\n",
            "end\n",
            "\n",
            "Fact: take course Computer vision\n",
            "Fact: take course Data structures and algorithms\n",
            "Fact: take course Artificial Intelligence\n",
            "Fact: take course Analysis and design of algorithms\n",
            "Fact: take course Database management system\n",
            "Fact: try activity Competitive programming\n",
            "Fact: try activity Back-end developer\n",
            "Fact: try activity Football\n",
            "Fact: try activity Basketball\n"
          ]
        }
      ]
    },
    {
      "cell_type": "code",
      "metadata": {
        "colab": {
          "base_uri": "https://localhost:8080/"
        },
        "id": "3Qaj8aCA75nu",
        "outputId": "0b03178f-04a5-4be1-9bd3-e9260ca4aaab"
      },
      "source": [
        "print('Suggested courses and activities -\\n')\n",
        "system = get_facts('system')\n",
        "for rule in system:\n",
        "  if 'course' in rule:\n",
        "    print('course:', rule['course'])\n",
        "  elif 'activity' in rule:\n",
        "    print('activity:', rule['activity'])"
      ],
      "execution_count": 7,
      "outputs": [
        {
          "output_type": "stream",
          "name": "stdout",
          "text": [
            "Suggested courses and activities -\n",
            "\n",
            "course: DSA\n",
            "activity: CP\n",
            "activity: backend\n",
            "activity: basketball\n",
            "course: AI\n",
            "activity: football\n",
            "course: ADA\n",
            "course: CV\n",
            "course: DBMS\n"
          ]
        }
      ]
    },
    {
      "cell_type": "code",
      "metadata": {
        "id": "a6EoFcTs9Wn7"
      },
      "source": [
        ""
      ],
      "execution_count": null,
      "outputs": []
    },
    {
      "cell_type": "markdown",
      "metadata": {
        "id": "putdgWX9NCGg"
      },
      "source": [
        "Prewritten assertions below.\n",
        "Instead of giving input try these to see how the rules are satisfied as new facts are provided"
      ]
    },
    {
      "cell_type": "code",
      "metadata": {
        "id": "8z_YpqxGXcEy"
      },
      "source": [
        "assert_fact('system', {'field': 'AI'})\n",
        "assert_fact('system', {'interest': 'math'})\n",
        "assert_fact('system', {'type': 'theory'})\n",
        "assert_fact('system', {'interest': 'language'})"
      ],
      "execution_count": null,
      "outputs": []
    },
    {
      "cell_type": "code",
      "metadata": {
        "id": "n70xLjZ07c0k"
      },
      "source": [
        "assert_fact('system', {'field': 'CS'})"
      ],
      "execution_count": null,
      "outputs": []
    },
    {
      "cell_type": "code",
      "metadata": {
        "id": "U9wjVuRkXviw"
      },
      "source": [
        "assert_fact('system', {'interest': 'network'})"
      ],
      "execution_count": null,
      "outputs": []
    },
    {
      "cell_type": "code",
      "metadata": {
        "id": "PN0TLVkH7sNW"
      },
      "source": [
        "assert_fact('system', {'interest': 'webdev'})\n",
        "assert_fact('system', {'interest': 'problem-solving'})"
      ],
      "execution_count": null,
      "outputs": []
    }
  ]
}